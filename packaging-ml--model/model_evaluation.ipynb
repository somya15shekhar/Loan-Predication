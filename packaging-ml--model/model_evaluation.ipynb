{
 "cells": [
  {
   "cell_type": "code",
   "execution_count": 24,
   "id": "1b9bc68b",
   "metadata": {},
   "outputs": [],
   "source": [
    "import pandas as pd\n",
    "import matplotlib.pyplot as plt\n",
    "import seaborn as sns\n",
    "from sklearn.metrics import accuracy_score, precision_score, recall_score, f1_score, confusion_matrix, roc_auc_score\n",
    "\n",
    "from pathlib import Path\n",
    "import os\n",
    "import sys\n"
   ]
  },
  {
   "cell_type": "code",
   "execution_count": 25,
   "id": "ac246826",
   "metadata": {},
   "outputs": [],
   "source": [
    "# Extend system path to import project modules\n",
    "PACKAGE_ROOT = Path(os.getcwd()).parent  #points to project's root directory\n",
    "\n",
    "sys.path.append(str(PACKAGE_ROOT))\n",
    "\n",
    "from prediction_model.config import config\n",
    "from prediction_model.processing.data_handling import load_dataset, load_pipeline\n",
    "from prediction_model.predict import generate_predictions"
   ]
  },
  {
   "cell_type": "code",
   "execution_count": 26,
   "id": "6b67bd62",
   "metadata": {},
   "outputs": [
    {
     "name": "stdout",
     "output_type": "stream",
     "text": [
      "[INFO] Loading dataset and trained model...\n",
      "Model has been loaded\n",
      "[INFO] Model and data loaded successfully.\n",
      "\n"
     ]
    }
   ],
   "source": [
    "# ------------------------\n",
    "# Load Data & Model\n",
    "# ------------------------\n",
    "\n",
    "print(\"[INFO] Loading dataset and trained model...\")\n",
    "\n",
    "from sklearn.model_selection import train_test_split\n",
    "\n",
    "df = load_dataset(config.TRAIN_FILE)\n",
    "X = df[config.FEATURES]\n",
    "y = df[config.TARGET].map({'Y': 1, 'N': 0})\n",
    "X_train, X_val, y_train, y_val = train_test_split(X, y, test_size=0.2, random_state=42)\n",
    "\n",
    "\n",
    "model = load_pipeline(config.MODEL_NAME)\n",
    "\n",
    "print(\"[INFO] Model and data loaded successfully.\\n\")\n"
   ]
  },
  {
   "cell_type": "code",
   "execution_count": 30,
   "id": "71679c13",
   "metadata": {},
   "outputs": [
    {
     "name": "stdout",
     "output_type": "stream",
     "text": [
      "[RESULT] Accuracy      : 0.7886\n",
      "[RESULT] Precision     : 0.7596\n",
      "[RESULT] Recall        : 0.9875\n",
      "[RESULT] F1 Score      : 0.8587\n",
      "[RESULT] ROC-AUC Score : 0.7031\n"
     ]
    },
    {
     "name": "stderr",
     "output_type": "stream",
     "text": [
      "c:\\Users\\Somya Shekhar\\Loan-Predication\\packaging-ml--model\\prediction_model\\processing\\preprocessing.py:32: FutureWarning: A value is trying to be set on a copy of a DataFrame or Series through chained assignment using an inplace method.\n",
      "The behavior will change in pandas 3.0. This inplace method will never work because the intermediate object on which we are setting values always behaves as a copy.\n",
      "\n",
      "For example, when doing 'df[col].method(value, inplace=True)', try using 'df.method({col: value}, inplace=True)' or df[col] = df[col].method(value) instead, to perform the operation inplace on the original object.\n",
      "\n",
      "\n",
      "  X[col].fillna(self.mean_dict[col], inplace=True)\n",
      "c:\\Users\\Somya Shekhar\\Loan-Predication\\packaging-ml--model\\prediction_model\\processing\\preprocessing.py:52: FutureWarning: A value is trying to be set on a copy of a DataFrame or Series through chained assignment using an inplace method.\n",
      "The behavior will change in pandas 3.0. This inplace method will never work because the intermediate object on which we are setting values always behaves as a copy.\n",
      "\n",
      "For example, when doing 'df[col].method(value, inplace=True)', try using 'df.method({col: value}, inplace=True)' or df[col] = df[col].method(value) instead, to perform the operation inplace on the original object.\n",
      "\n",
      "\n",
      "  X[col].fillna(self.mode_dict[col], inplace=True)\n"
     ]
    }
   ],
   "source": [
    "# Predict\n",
    "y_pred = model.predict(X_val)\n",
    "\n",
    "# Evaluation\n",
    "print(f\"[RESULT] Accuracy      : {accuracy_score(y_val, y_pred):.4f}\")\n",
    "print(f\"[RESULT] Precision     : {precision_score(y_val, y_pred):.4f}\")\n",
    "print(f\"[RESULT] Recall        : {recall_score(y_val, y_pred):.4f}\")\n",
    "print(f\"[RESULT] F1 Score      : {f1_score(y_val, y_pred):.4f}\")\n",
    "print(f\"[RESULT] ROC-AUC Score : {roc_auc_score(y_val, y_pred):.4f}\")\n"
   ]
  },
  {
   "cell_type": "code",
   "execution_count": 35,
   "id": "f6e799c1",
   "metadata": {},
   "outputs": [
    {
     "data": {
      "image/png": "[encoded data removed]",
      "text/plain": [
       "<Figure size 640x480 with 2 Axes>"
      ]
     },
     "metadata": {},
     "output_type": "display_data"
    }
   ],
   "source": [
    "# Confusion matrix\n",
    "\n",
    "cm = confusion_matrix(y_val, y_pred)\n",
    "sns.heatmap(cm, annot=True, fmt='d', cmap='Blues')\n",
    "plt.xlabel(\"Predicted\")\n",
    "plt.ylabel(\"Actual\")\n",
    "plt.title(\"Confusion Matrix\")\n",
    "plt.show()\n",
    "\n"
   ]
  }
 ],
 "metadata": {
  "kernelspec": {
   "display_name": "venv",
   "language": "python",
   "name": "python3"
  },
  "language_info": {
   "codemirror_mode": {
    "name": "ipython",
    "version": 3
   },
   "file_extension": ".py",
   "mimetype": "text/x-python",
   "name": "python",
   "nbconvert_exporter": "python",
   "pygments_lexer": "ipython3",
   "version": "3.13.5"
  }
 },
 "nbformat": 4,
 "nbformat_minor": 5
}
