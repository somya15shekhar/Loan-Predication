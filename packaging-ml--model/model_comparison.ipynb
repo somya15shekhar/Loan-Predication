{
 "cells": [
  {
   "cell_type": "code",
   "execution_count": 20,
   "id": "5c9ed0bc",
   "metadata": {},
   "outputs": [],
   "source": [
    "import sys\n",
    "import os\n",
    "from pathlib import Path\n",
    "\n",
    "import pandas as pd\n",
    "import numpy as np\n",
    "import matplotlib.pyplot as plt\n",
    "import seaborn as sns\n",
    "\n",
    "from sklearn.pipeline import Pipeline\n",
    "from sklearn.linear_model import LogisticRegression\n",
    "from sklearn.ensemble import RandomForestClassifier\n",
    "from sklearn.model_selection import train_test_split\n",
    "from sklearn.metrics import accuracy_score, precision_score, recall_score, f1_score, roc_auc_score\n",
    "\n",
    "import sys\n",
    "import os\n",
    "from pathlib import Path\n",
    "\n",
    "# Extend system path to import project modules\n",
    "PACKAGE_ROOT = Path(os.getcwd()).parent  #points to project's root directory\n",
    "sys.path.append(str(PACKAGE_ROOT))\n",
    "\n",
    "from prediction_model.config import config\n",
    "from prediction_model.processing.data_handling import load_dataset, load_pipeline, save_pipeline\n",
    "\n"
   ]
  },
  {
   "cell_type": "code",
   "execution_count": 21,
   "id": "ce19347f",
   "metadata": {},
   "outputs": [],
   "source": [
    "# Load and prepare data\n",
    "df = load_dataset(config.TRAIN_FILE)\n",
    "X = df[config.FEATURES]\n",
    "y = df[config.TARGET].map({'Y': 1, 'N': 0})\n",
    "\n",
    "X_train, X_val, y_train, y_val = train_test_split(X, y, test_size=0.2, random_state=42)"
   ]
  },
  {
   "cell_type": "code",
   "execution_count": 22,
   "id": "d5789df4",
   "metadata": {},
   "outputs": [
    {
     "name": "stdout",
     "output_type": "stream",
     "text": [
      "Model has been loaded\n"
     ]
    },
    {
     "name": "stderr",
     "output_type": "stream",
     "text": [
      "c:\\Users\\Somya Shekhar\\Loan-Predication\\packaging-ml--model\\prediction_model\\processing\\preprocessing.py:32: FutureWarning: A value is trying to be set on a copy of a DataFrame or Series through chained assignment using an inplace method.\n",
      "The behavior will change in pandas 3.0. This inplace method will never work because the intermediate object on which we are setting values always behaves as a copy.\n",
      "\n",
      "For example, when doing 'df[col].method(value, inplace=True)', try using 'df.method({col: value}, inplace=True)' or df[col] = df[col].method(value) instead, to perform the operation inplace on the original object.\n",
      "\n",
      "\n",
      "  X[col].fillna(self.mean_dict[col], inplace=True)\n",
      "c:\\Users\\Somya Shekhar\\Loan-Predication\\packaging-ml--model\\prediction_model\\processing\\preprocessing.py:52: FutureWarning: A value is trying to be set on a copy of a DataFrame or Series through chained assignment using an inplace method.\n",
      "The behavior will change in pandas 3.0. This inplace method will never work because the intermediate object on which we are setting values always behaves as a copy.\n",
      "\n",
      "For example, when doing 'df[col].method(value, inplace=True)', try using 'df.method({col: value}, inplace=True)' or df[col] = df[col].method(value) instead, to perform the operation inplace on the original object.\n",
      "\n",
      "\n",
      "  X[col].fillna(self.mode_dict[col], inplace=True)\n",
      "c:\\Users\\Somya Shekhar\\Loan-Predication\\packaging-ml--model\\prediction_model\\processing\\preprocessing.py:32: FutureWarning: A value is trying to be set on a copy of a DataFrame or Series through chained assignment using an inplace method.\n",
      "The behavior will change in pandas 3.0. This inplace method will never work because the intermediate object on which we are setting values always behaves as a copy.\n",
      "\n",
      "For example, when doing 'df[col].method(value, inplace=True)', try using 'df.method({col: value}, inplace=True)' or df[col] = df[col].method(value) instead, to perform the operation inplace on the original object.\n",
      "\n",
      "\n",
      "  X[col].fillna(self.mean_dict[col], inplace=True)\n",
      "c:\\Users\\Somya Shekhar\\Loan-Predication\\packaging-ml--model\\prediction_model\\processing\\preprocessing.py:52: FutureWarning: A value is trying to be set on a copy of a DataFrame or Series through chained assignment using an inplace method.\n",
      "The behavior will change in pandas 3.0. This inplace method will never work because the intermediate object on which we are setting values always behaves as a copy.\n",
      "\n",
      "For example, when doing 'df[col].method(value, inplace=True)', try using 'df.method({col: value}, inplace=True)' or df[col] = df[col].method(value) instead, to perform the operation inplace on the original object.\n",
      "\n",
      "\n",
      "  X[col].fillna(self.mode_dict[col], inplace=True)\n"
     ]
    }
   ],
   "source": [
    "# Load the full pipeline and remove the final classifier\n",
    "pipeline = load_pipeline(config.MODEL_NAME)\n",
    "preprocessor = Pipeline(pipeline.steps[:-1])\n",
    "\n",
    "# Transform the data using the pipeline's preprocessing\n",
    "X_train_processed = preprocessor.transform(X_train)\n",
    "X_val_processed = preprocessor.transform(X_val)"
   ]
  },
  {
   "cell_type": "code",
   "execution_count": 23,
   "id": "85919069",
   "metadata": {},
   "outputs": [],
   "source": [
    "# Initialize models\n",
    "models = {\n",
    "    \"Logistic Regression\": LogisticRegression(max_iter=1000),\n",
    "    \"Random Forest\": RandomForestClassifier(n_estimators=100, random_state=42)\n",
    "}\n"
   ]
  },
  {
   "cell_type": "code",
   "execution_count": 24,
   "id": "e9c5c472",
   "metadata": {},
   "outputs": [
    {
     "name": "stdout",
     "output_type": "stream",
     "text": [
      "\n",
      "[RESULT] Logistic Regression\n",
      "Accuracy      : 0.7886\n",
      "Precision     : 0.7596\n",
      "Recall        : 0.9875\n",
      "F1 Score      : 0.8587\n",
      "ROC-AUC Score : 0.7031\n",
      "\n",
      "[RESULT] Random Forest\n",
      "Accuracy      : 0.7724\n",
      "Precision     : 0.7600\n",
      "Recall        : 0.9500\n",
      "F1 Score      : 0.8444\n",
      "ROC-AUC Score : 0.6959\n"
     ]
    }
   ],
   "source": [
    "results = {}\n",
    "\n",
    "# Step 4: Evaluate each model\n",
    "for name, model in models.items():\n",
    "    model.fit(X_train_processed, y_train)\n",
    "    y_pred = model.predict(X_val_processed)\n",
    "\n",
    "    f1 = f1_score(y_val, y_pred)\n",
    "    roc = roc_auc_score(y_val, y_pred)\n",
    "\n",
    "    # Store results\n",
    "    results[name] = {\n",
    "        \"model\": model,\n",
    "        \"F1 Score\": f1,\n",
    "        \"ROC AUC\": roc\n",
    "    }\n",
    "\n",
    "    print(f\"\\n[RESULT] {name}\")\n",
    "    print(f\"Accuracy      : {accuracy_score(y_val, y_pred):.4f}\")\n",
    "    print(f\"Precision     : {precision_score(y_val, y_pred):.4f}\")\n",
    "    print(f\"Recall        : {recall_score(y_val, y_pred):.4f}\")\n",
    "    print(f\"F1 Score      : {f1:.4f}\")\n",
    "    print(f\"ROC-AUC Score : {roc:.4f}\")"
   ]
  },
  {
   "cell_type": "code",
   "execution_count": 25,
   "id": "95a8ed26",
   "metadata": {},
   "outputs": [
    {
     "name": "stdout",
     "output_type": "stream",
     "text": [
      "\n",
      "✅ Best model selected: Logistic Regression based on highest F1 Score\n"
     ]
    }
   ],
   "source": [
    "# Step 5: Select best model based on F1 score (you can switch to ROC AUC if needed)\n",
    "best_model_name = max(results, key=lambda x: results[x][\"F1 Score\"])\n",
    "best_model = results[best_model_name][\"model\"]\n",
    "\n",
    "print(f\"\\n✅ Best model selected: {best_model_name} based on highest F1 Score\")"
   ]
  },
  {
   "cell_type": "code",
   "execution_count": 26,
   "id": "87a7cce9",
   "metadata": {},
   "outputs": [
    {
     "name": "stdout",
     "output_type": "stream",
     "text": [
      "Model has been saved under the name classification.pkl\n",
      "[✅] New model pipeline saved successfully as the final production model.\n"
     ]
    }
   ],
   "source": [
    "# Step 6: Create new pipeline with best model\n",
    "final_pipeline = Pipeline(steps=[\n",
    "    *preprocessor.steps,\n",
    "    (\"classifier\", best_model)\n",
    "])\n",
    "\n",
    "# Step 7: Save the upgraded pipeline\n",
    "save_pipeline(final_pipeline)\n",
    "\n",
    "print(\"[✅] New model pipeline saved successfully as the final production model.\")"
   ]
  }
 ],
 "metadata": {
  "kernelspec": {
   "display_name": "venv",
   "language": "python",
   "name": "python3"
  },
  "language_info": {
   "codemirror_mode": {
    "name": "ipython",
    "version": 3
   },
   "file_extension": ".py",
   "mimetype": "text/x-python",
   "name": "python",
   "nbconvert_exporter": "python",
   "pygments_lexer": "ipython3",
   "version": "3.13.5"
  }
 },
 "nbformat": 4,
 "nbformat_minor": 5
}
